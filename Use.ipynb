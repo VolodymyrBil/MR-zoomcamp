{
 "cells": [
  {
   "cell_type": "code",
   "execution_count": 1,
   "metadata": {},
   "outputs": [],
   "source": [
    "import requests"
   ]
  },
  {
   "cell_type": "code",
   "execution_count": 4,
   "metadata": {},
   "outputs": [],
   "source": [
    "url= 'http://35.180.97.11:9696/predict'"
   ]
  },
  {
   "cell_type": "code",
   "execution_count": 5,
   "metadata": {},
   "outputs": [],
   "source": [
    "adult = {\n",
    "    \"age\": 27,\n",
    "    \"workclass\": \"Private\",\n",
    "    \"fnlwgt\": 301302,\n",
    "    \"education\": \"Bachelors\",\n",
    "    \"education_num\": 13,\n",
    "    \"marital_status\": \"Never-married\",\n",
    "    \"occupation\": \"Craft-repair\",\n",
    "    \"relationship\": \"Not-in-family\",\n",
    "    \"race\": \"White\",\n",
    "    \"sex\": \"Male\",\n",
    "    \"capital_gain\": 0,\n",
    "    \"capital_loss\": 0,\n",
    "    \"hours_per_week\": 50,\n",
    "    \"native_country\": \"United-States\"\n",
    " }"
   ]
  },
  {
   "cell_type": "code",
   "execution_count": 10,
   "metadata": {},
   "outputs": [
    {
     "data": {
      "text/plain": [
       "{'Probability that this adult has anual income >50k': 0.06292569637298584,\n",
       " 'income >50k': False}"
      ]
     },
     "execution_count": 10,
     "metadata": {},
     "output_type": "execute_result"
    }
   ],
   "source": [
    "requests.post(url, json=adult).json()"
   ]
  },
  {
   "cell_type": "code",
   "execution_count": null,
   "metadata": {},
   "outputs": [],
   "source": [
    "# you should receive following answer from server:\n",
    "# {'Probability that this adult has anual income >50k': 0.06292569637298584,\n",
    "# 'income >50k': False}"
   ]
  },
  {
   "cell_type": "code",
   "execution_count": null,
   "metadata": {},
   "outputs": [],
   "source": []
  }
 ],
 "metadata": {
  "kernelspec": {
   "display_name": "Python 3",
   "language": "python",
   "name": "python3"
  },
  "language_info": {
   "codemirror_mode": {
    "name": "ipython",
    "version": 3
   },
   "file_extension": ".py",
   "mimetype": "text/x-python",
   "name": "python",
   "nbconvert_exporter": "python",
   "pygments_lexer": "ipython3",
   "version": "3.11.9"
  }
 },
 "nbformat": 4,
 "nbformat_minor": 2
}
